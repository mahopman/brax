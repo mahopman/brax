{
  "cells": [
    {
      "cell_type": "markdown",
      "metadata": {
        "id": "ssCOanHc8JH_"
      },
      "source": [
        "# Training in Brax\n",
        "\n",
        "Once an environment is created in brax, we can quickly train it using brax's built-in training algorithms. Let's try it out!"
      ]
    },
    {
      "cell_type": "code",
      "execution_count": 1,
      "metadata": {
        "id": "kUrAlZTod7t_"
      },
      "outputs": [],
      "source": [
        "#@markdown ## ⚠️ PLEASE NOTE:\n",
        "#@markdown This colab runs best using a GPU runtime.  From the Colab menu, choose Runtime > Change Runtime Type, then select **'GPU'** in the dropdown.\n",
        "\n",
        "import functools\n",
        "import jax\n",
        "import os\n",
        "\n",
        "from datetime import datetime\n",
        "from jax import numpy as jp\n",
        "import matplotlib.pyplot as plt\n",
        "\n",
        "from IPython.display import HTML, clear_output\n",
        "\n",
        "try:\n",
        "  import brax\n",
        "except ImportError:\n",
        "  !pip install git+https://github.com/google/brax.git@main\n",
        "  clear_output()\n",
        "  import brax\n",
        "\n",
        "import flax\n",
        "from brax import envs\n",
        "from brax.io import model\n",
        "from brax.io import json\n",
        "from brax.io import html\n",
        "from brax.training.agents.ppo import train as ppo\n",
        "from brax.training.agents.sac import train as sac\n",
        "\n",
        "if 'COLAB_TPU_ADDR' in os.environ:\n",
        "  from jax.tools import colab_tpu\n",
        "  colab_tpu.setup_tpu()"
      ]
    },
    {
      "cell_type": "markdown",
      "metadata": {
        "id": "eoyyw6pQ3xVJ"
      },
      "source": [
        "First let's pick an environment and a backend to train an agent in. \n",
        "\n",
        "Recall from the [Brax Basics](https://github.com/google/brax/blob/main/notebooks/basics.ipynb) colab, that the backend specifies which physics engine to use, each with different trade-offs between physical realism and training throughput/speed. The engines generally decrease in physical realism but increase in speed in the following order: `generalized`,  `positional`, then `spring`.\n"
      ]
    },
    {
      "cell_type": "code",
      "execution_count": 2,
      "metadata": {
        "colab": {
          "height": 535,
          "base_uri": "https://localhost:8080/"
        },
        "id": "4hHuDp53e4VJ",
        "outputId": "56a40e45-305e-4573-c85a-dab617c9acd0"
      },
      "outputs": [
        {
          "output_type": "stream",
          "name": "stderr",
          "text": [
            "/usr/local/lib/python3.10/dist-packages/ipykernel/ipkernel.py:283: DeprecationWarning: `should_run_async` will not call `transform_cell` automatically in the future. Please pass the result to `transformed_cell` argument and any exception that happen during thetransform in `preprocessing_exc_tuple` in IPython 7.17 and above.\n",
            "  and should_run_async(code)\n"
          ]
        },
        {
          "output_type": "execute_result",
          "data": {
            "text/plain": [
              "<IPython.core.display.HTML object>"
            ],
            "text/html": [
              "<!DOCTYPE html>\n",
              "<html>\n",
              "\n",
              "  <head>\n",
              "    <title>Brax visualizer</title>\n",
              "    <link rel=\"shortcut icon\" type=\"image/x-icon\" href=\"/favicon.ico\">\n",
              "  </head>\n",
              "\n",
              "  <style>\n",
              "    body {\n",
              "      margin: 0;\n",
              "      padding: 0;\n",
              "    }\n",
              "\n",
              "    #brax-viewer {\n",
              "      height: 480px;\n",
              "      margin: 0;\n",
              "      padding: 0;\n",
              "    }\n",
              "  </style>\n",
              "  <script async src=\"https://unpkg.com/es-module-shims@1.6.3/dist/es-module-shims.js\"></script>\n",
              "\n",
              "  <script type=\"importmap\">\n",
              "    {\n",
              "      \"imports\": {\n",
              "        \"three\": \"https://unpkg.com/three@0.150.1/build/three.module.js\",\n",
              "        \"three/addons/\": \"https://unpkg.com/three@0.150.1/examples/jsm/\",\n",
              "        \"lilgui\": \"https://cdn.jsdelivr.net/npm/lil-gui@0.18.0/+esm\",\n",
              "        \"viewer\": \"https://cdn.jsdelivr.net/gh/google/brax@v0.9.0/brax/visualizer/js/viewer.js\"\n",
              "      }\n",
              "    }\n",
              "  </script>\n",
              "\n",
              "  <script type=\"application/javascript\">\n",
              "  var system = {\"dt\": 0.0015, \"gravity\": [0.0, 0.0, -9.8100004196167], \"link\": {\"transform\": {\"pos\": [[0.0, 0.0, 0.0], [0.20999999344348907, 0.0, 0.0], [0.16500000655651093, 0.0, 0.0], [0.0, -0.10000000149011612, 0.0], [0.40299999713897705, 0.009999999776482582, 0.0], [0.0, 0.10000000149011612, 0.0], [0.40299999713897705, -0.009999999776482582, 0.0], [0.0, -0.17000000178813934, 0.05999999865889549], [0.18000000715255737, -0.18000000715255737, -0.18000000715255737], [0.0, 0.17000000178813934, 0.05999999865889549], [0.18000000715255737, 0.18000000715255737, -0.18000000715255737]], \"rot\": [[1.0, 0.0, 0.0, 0.0], [0.9999979734420776, 0.0, -0.001999995904043317, 0.0], [0.9999979734420776, 0.0, -0.001999995904043317, 0.0], [1.0, 0.0, 0.0, 0.0], [1.0, 0.0, 0.0, 0.0], [1.0, 0.0, 0.0, 0.0], [1.0, 0.0, 0.0, 0.0], [1.0, 0.0, 0.0, 0.0], [1.0, 0.0, 0.0, 0.0], [1.0, 0.0, 0.0, 0.0], [1.0, 0.0, 0.0, 0.0]], \"name\": \"Transform\"}, \"joint\": {\"pos\": [[0.0, 0.0, 0.0], [0.0, 0.0, 0.06499999761581421], [0.0, 0.0, 0.10000000149011612], [0.0, 0.0, 0.0], [0.0, 0.0, 0.019999999552965164], [0.0, 0.0, 0.0], [0.0, 0.0, 0.019999999552965164], [0.0, 0.0, 0.0], [0.0, 0.0, 0.0], [0.0, 0.0, 0.0], [0.0, 0.0, 0.0]], \"rot\": [[1.0, 0.0, 0.0, 0.0], [1.0, 0.0, 0.0, 0.0], [1.0, 0.0, 0.0, 0.0], [1.0, 0.0, 0.0, 0.0], [1.0, 0.0, 0.0, 0.0], [1.0, 0.0, 0.0, 0.0], [1.0, 0.0, 0.0, 0.0], [1.0, 0.0, 0.0, 0.0], [1.0, 0.0, 0.0, 0.0], [1.0, 0.0, 0.0, 0.0], [1.0, 0.0, 0.0, 0.0]], \"name\": \"Transform\"}, \"inertia\": {\"transform\": {\"pos\": [[-0.023489302024245262, 0.0, 0.0], [0.0, 0.0, 0.0], [-0.019999999552965164, 0.0, 0.0], [0.17000000178813934, 0.004999999888241291, 0.0], [0.22814315557479858, 0.0, 0.0], [0.17000000178813934, -0.004999999888241291, 0.0], [0.22814315557479858, 0.0, 0.0], [0.07999999821186066, -0.07999999821186066, -0.07999999821186066], [0.10962313413619995, 0.10962313413619995, 0.10962313413619995], [0.07999999821186066, 0.07999999821186066, -0.07999999821186066], [0.10962313413619995, -0.10962313413619995, 0.10962313413619995]], \"rot\": [[0.0, 0.7071067690849304, 0.0, 0.7071067690849304], [0.7071067690849304, 0.7071067690849304, 0.0, -0.0], [0.7071067690849304, 0.7071067690849304, 0.0, -0.0], [0.7071067690849304, 0.020788269117474556, -0.7068011164665222, 0.0], [0.5, 0.5, 0.5, 0.5], [0.7071067690849304, -0.020788269117474556, -0.7068011164665222, 0.0], [0.5, 0.5, 0.5, 0.5], [0.8880738615989685, -0.32505759596824646, -0.32505759596824646, 0.0], [0.7045563459396362, -0.06000300124287605, 0.45576804876327515, 0.5406250953674316], [0.8880738615989685, 0.32505759596824646, -0.32505759596824646, 0.0], [0.5406250953674316, 0.45576804876327515, -0.06000300124287605, 0.7045563459396362]], \"name\": \"Transform\"}, \"i\": [[[0.13220462203025818, 0.0, 0.0], [0.0, 0.11289717257022858, 0.0], [0.0, 0.0, 0.04104309529066086]], [[0.009853039868175983, 0.0, 0.0], [0.0, 0.009853039868175983, 0.0], [0.0, 0.0, 0.003745783818885684]], [[0.05231798067688942, 0.0, 0.0], [0.0, 0.05231798067688942, 0.0], [0.0, 0.0, 0.02432214841246605]], [[0.0749516561627388, 0.0, 0.0], [0.0, 0.0749516561627388, 0.0], [0.0, 0.0, 0.00822743121534586]], [[0.0796518549323082, 0.0, 0.0], [0.0, 0.0796518549323082, 0.0], [0.0, 0.0, 0.007165968418121338]], [[0.0749516561627388, 0.0, 0.0], [0.0, 0.0749516561627388, 0.0], [0.0, 0.0, 0.00822743121534586]], [[0.0796518549323082, 0.0, 0.0], [0.0, 0.0796518549323082, 0.0], [0.0, 0.0, 0.007165968418121338]], [[0.01590554229915142, 0.0, 0.0], [0.0, 0.01590554229915142, 0.0], [0.0, 0.0, 0.0012859711423516273]], [[0.013667228631675243, 0.0, 0.0], [0.0, 0.013667228631675243, 0.0], [0.0, 0.0, 0.0006215610774233937]], [[0.01590554229915142, 0.0, 0.0], [0.0, 0.01590554229915142, 0.0], [0.0, 0.0, 0.0012859711423516273]], [[0.013667228631675243, 0.0, 0.0], [0.0, 0.013667228631675243, 0.0], [0.0, 0.0, 0.0006215610774233937]]], \"mass\": [8.907462120056152, 2.261946678161621, 6.616194248199463, 4.751750946044922, 4.522841930389404, 4.751750946044922, 4.522841930389404, 1.6610804796218872, 1.229540228843689, 1.6610804796218872, 1.229540228843689], \"name\": \"Inertia\"}, \"invweight\": [0.06844248622655869, 0.08279723674058914, 0.05569435656070709, 0.06951092183589935, 0.1475318819284439, 0.06953572481870651, 0.14743955433368683, 0.1660483181476593, 0.5412662625312805, 0.16606637835502625, 0.5412623286247253], \"constraint_stiffness\": [27000.0, 27000.0, 27000.0, 27000.0, 27000.0, 27000.0, 27000.0, 27000.0, 27000.0, 27000.0, 27000.0], \"constraint_vel_damping\": [80.0, 80.0, 80.0, 80.0, 80.0, 80.0, 80.0, 80.0, 80.0, 80.0, 80.0], \"constraint_limit_stiffness\": [2500.0, 2500.0, 2500.0, 2500.0, 2500.0, 2500.0, 2500.0, 2500.0, 2500.0, 2500.0, 2500.0], \"constraint_ang_damping\": [30.0, 30.0, 30.0, 30.0, 30.0, 30.0, 30.0, 30.0, 30.0, 30.0, 30.0], \"name\": \"Link\"}, \"dof\": {\"motion\": {\"ang\": [[0.0, 0.0, 0.0], [0.0, 0.0, 0.0], [0.0, 0.0, 0.0], [1.0, 0.0, 0.0], [0.0, 1.0, 0.0], [0.0, 0.0, 1.0], [0.0, 0.0, 1.0], [0.0, 1.0, 0.0], [1.0, 0.0, 0.0], [1.0, 0.0, 0.0], [0.0, 0.0, 1.0], [0.0, 1.0, 0.0], [0.0, -1.0, 0.0], [-1.0, 0.0, 0.0], [0.0, 0.0, -1.0], [0.0, 1.0, 0.0], [0.0, -1.0, 0.0], [0.8164966106414795, 0.40824830532073975, 0.40824830532073975], [0.0, -0.7071067690849304, 0.7071067690849304], [0.0, -0.7071067690849304, 0.7071067690849304], [0.8164966106414795, -0.40824830532073975, 0.40824830532073975], [0.0, 0.7071067690849304, 0.7071067690849304], [0.0, -0.7071067690849304, -0.7071067690849304]], \"vel\": [[1.0, 0.0, 0.0], [0.0, 1.0, 0.0], [0.0, 0.0, 1.0], [0.0, 0.0, 0.0], [0.0, 0.0, 0.0], [0.0, 0.0, 0.0], [0.0, 0.0, 0.0], [0.0, 0.0, 0.0], [0.0, 0.0, 0.0], [0.0, 0.0, 0.0], [0.0, 0.0, 0.0], [0.0, 0.0, 0.0], [0.0, 0.0, 0.0], [0.0, 0.0, 0.0], [0.0, 0.0, 0.0], [0.0, 0.0, 0.0], [0.0, 0.0, 0.0], [0.0, 0.0, 0.0], [0.0, 0.0, 0.0], [0.0, 0.0, 0.0], [0.0, 0.0, 0.0], [0.0, 0.0, 0.0], [0.0, 0.0, 0.0]], \"name\": \"Motion\"}, \"armature\": [0.0, 0.0, 0.0, 0.0, 0.0, 0.0, 0.019999999552965164, 0.019999999552965164, 0.019999999552965164, 0.009999999776482582, 0.009999999776482582, 0.00800000037997961, 0.006000000052154064, 0.009999999776482582, 0.009999999776482582, 0.009999999776482582, 0.006000000052154064, 0.006800000090152025, 0.005100000184029341, 0.00279999990016222, 0.006800000090152025, 0.005100000184029341, 0.00279999990016222], \"stiffness\": [0.0, 0.0, 0.0, 0.0, 0.0, 0.0, 20.0, 10.0, 10.0, 10.0, 10.0, 20.0, 0.0, 10.0, 10.0, 20.0, 1.0, 1.0, 1.0, 0.0, 1.0, 1.0, 0.0], \"damping\": [0.0, 0.0, 0.0, 0.0, 0.0, 0.0, 5.0, 5.0, 5.0, 5.0, 5.0, 5.0, 1.0, 5.0, 5.0, 5.0, 1.0, 1.0, 1.0, 1.0, 1.0, 1.0, 1.0], \"limit\": [[\"-inf\", \"-inf\", \"-inf\", \"-inf\", \"-inf\", \"-inf\", -0.7853981852531433, -1.3089969158172607, -0.6108652353286743, -0.4363323152065277, -1.0471975803375244, -1.919862151145935, -2.7925267219543457, -0.4363323152065277, -1.0471975803375244, -2.094395160675049, -2.7925267219543457, -1.483529806137085, -1.483529806137085, -1.5707963705062866, -1.0471975803375244, -1.0471975803375244, -1.5707963705062866], [\"inf\", \"inf\", \"inf\", \"inf\", \"inf\", \"inf\", 0.7853981852531433, 0.5235987901687622, 0.6108652353286743, 0.0872664600610733, 0.6108652353286743, 0.3490658402442932, -0.03490658476948738, 0.0872664600610733, 0.6108652353286743, 0.3490658402442932, -0.03490658476948738, 1.0471975803375244, 1.0471975803375244, 0.8726646304130554, 1.483529806137085, 1.483529806137085, 0.8726646304130554]], \"invweight\": [0.06336423009634018, 0.06336423009634018, 0.06336423009634018, 3.1546640396118164, 3.1546640396118164, 3.1546640396118164, 5.891852378845215, 9.293523788452148, 9.002763748168945, 41.805145263671875, 3.7702479362487793, 9.774933815002441, 16.378393173217773, 41.80022430419922, 3.770249128341675, 9.666778564453125, 16.27364730834961, 14.239741325378418, 10.230731964111328, 20.42510414123535, 14.240867614746094, 10.23782730102539, 20.42650032043457], \"name\": \"DoF\"}, \"geoms\": {\"world\": [{\"link_idx\": null, \"transform\": {\"pos\": [0.0, 0.0, 0.0], \"rot\": [1.0, 0.0, 0.0, 0.0], \"name\": \"Transform\"}, \"friction\": 1.0, \"elasticity\": 0.0, \"rgba\": [0.4000000059604645, 0.33000001311302185, 0.25999999046325684, 1.0], \"name\": \"Plane\"}], \"torso\": [{\"link_idx\": 0, \"transform\": {\"pos\": [0.0, 0.0, 0.0], \"rot\": [0.7071067690849304, 0.7071067690849304, 0.0, -0.0], \"name\": \"Transform\"}, \"friction\": 1.0, \"elasticity\": 0.0, \"radius\": 0.07000000029802322, \"length\": 0.14000000059604645, \"rgba\": [0.4000000059604645, 0.33000001311302185, 0.25999999046325684, 1.0], \"name\": \"Capsule\"}, {\"link_idx\": 0, \"transform\": {\"pos\": [0.10999999940395355, 0.0, 0.0], \"rot\": [0.7071067690849304, 0.7071067690849304, 0.0, -0.0], \"name\": \"Transform\"}, \"friction\": 1.0, \"elasticity\": 0.0, \"radius\": 0.05999999865889549, \"length\": 0.11999999731779099, \"rgba\": [0.4000000059604645, 0.33000001311302185, 0.25999999046325684, 1.0], \"name\": \"Capsule\"}, {\"link_idx\": 0, \"transform\": {\"pos\": [-0.15000000596046448, 0.0, 0.0], \"rot\": [1.0, 0.0, 0.0, 0.0], \"name\": \"Transform\"}, \"friction\": 1.0, \"elasticity\": 0.0, \"radius\": 0.09000000357627869, \"rgba\": [0.4000000059604645, 0.33000001311302185, 0.25999999046325684, 1.0], \"name\": \"Sphere\"}], \"right_thigh\": [{\"link_idx\": 3, \"transform\": {\"pos\": [0.17000000178813934, 0.004999999888241291, 0.0], \"rot\": [0.7071067690849304, 0.020788269117474556, -0.7068011164665222, 0.0], \"name\": \"Transform\"}, \"friction\": 1.0, \"elasticity\": 0.0, \"radius\": 0.05999999865889549, \"length\": 0.3401470184326172, \"rgba\": [0.4000000059604645, 0.33000001311302185, 0.25999999046325684, 1.0], \"name\": \"Capsule\"}], \"left_thigh\": [{\"link_idx\": 5, \"transform\": {\"pos\": [0.17000000178813934, -0.004999999888241291, 0.0], \"rot\": [0.7071067690849304, -0.020788269117474556, -0.7068011164665222, 0.0], \"name\": \"Transform\"}, \"friction\": 1.0, \"elasticity\": 0.0, \"radius\": 0.05999999865889549, \"length\": 0.3401470184326172, \"rgba\": [0.4000000059604645, 0.33000001311302185, 0.25999999046325684, 1.0], \"name\": \"Capsule\"}], \"right_lower_arm\": [{\"link_idx\": 8, \"transform\": {\"pos\": [0.09000000357627869, 0.09000000357627869, 0.09000000357627869], \"rot\": [0.4597008526325226, 0.6279630064964294, -0.6279630064964294, 0.0], \"name\": \"Transform\"}, \"friction\": 1.0, \"elasticity\": 0.0, \"radius\": 0.03099999949336052, \"length\": 0.277128130197525, \"rgba\": [0.4000000059604645, 0.33000001311302185, 0.25999999046325684, 1.0], \"name\": \"Capsule\"}, {\"link_idx\": 8, \"transform\": {\"pos\": [0.18000000715255737, 0.18000000715255737, 0.18000000715255737], \"rot\": [1.0, 0.0, 0.0, 0.0], \"name\": \"Transform\"}, \"friction\": 1.0, \"elasticity\": 0.0, \"radius\": 0.03999999910593033, \"rgba\": [0.4000000059604645, 0.33000001311302185, 0.25999999046325684, 1.0], \"name\": \"Sphere\"}], \"left_lower_arm\": [{\"link_idx\": 10, \"transform\": {\"pos\": [0.09000000357627869, -0.09000000357627869, 0.09000000357627869], \"rot\": [0.4597008526325226, -0.6279630064964294, -0.6279630064964294, 0.0], \"name\": \"Transform\"}, \"friction\": 1.0, \"elasticity\": 0.0, \"radius\": 0.03099999949336052, \"length\": 0.277128130197525, \"rgba\": [0.4000000059604645, 0.33000001311302185, 0.25999999046325684, 1.0], \"name\": \"Capsule\"}, {\"link_idx\": 10, \"transform\": {\"pos\": [0.18000000715255737, -0.18000000715255737, 0.18000000715255737], \"rot\": [1.0, 0.0, 0.0, 0.0], \"name\": \"Transform\"}, \"friction\": 1.0, \"elasticity\": 0.0, \"radius\": 0.03999999910593033, \"rgba\": [0.4000000059604645, 0.33000001311302185, 0.25999999046325684, 1.0], \"name\": \"Sphere\"}], \"right_shin\": [{\"link_idx\": 4, \"transform\": {\"pos\": [0.3499999940395355, 0.0, 0.0], \"rot\": [1.0, 0.0, 0.0, 0.0], \"name\": \"Transform\"}, \"friction\": 1.0, \"elasticity\": 0.0, \"radius\": 0.07500000298023224, \"rgba\": [0.4000000059604645, 0.33000001311302185, 0.25999999046325684, 1.0], \"name\": \"Sphere\"}, {\"link_idx\": 4, \"transform\": {\"pos\": [0.15000000596046448, 0.0, 0.0], \"rot\": [0.7071067690849304, 0.0, -0.7071067690849304, 0.0], \"name\": \"Transform\"}, \"friction\": 1.0, \"elasticity\": 0.0, \"radius\": 0.04899999871850014, \"length\": 0.30000001192092896, \"rgba\": [0.4000000059604645, 0.33000001311302185, 0.25999999046325684, 1.0], \"name\": \"Capsule\"}], \"left_shin\": [{\"link_idx\": 6, \"transform\": {\"pos\": [0.3499999940395355, 0.0, 0.0], \"rot\": [1.0, 0.0, 0.0, 0.0], \"name\": \"Transform\"}, \"friction\": 1.0, \"elasticity\": 0.0, \"radius\": 0.07500000298023224, \"rgba\": [0.4000000059604645, 0.33000001311302185, 0.25999999046325684, 1.0], \"name\": \"Sphere\"}, {\"link_idx\": 6, \"transform\": {\"pos\": [0.15000000596046448, 0.0, 0.0], \"rot\": [0.7071067690849304, 0.0, -0.7071067690849304, 0.0], \"name\": \"Transform\"}, \"friction\": 1.0, \"elasticity\": 0.0, \"radius\": 0.04899999871850014, \"length\": 0.30000001192092896, \"rgba\": [0.4000000059604645, 0.33000001311302185, 0.25999999046325684, 1.0], \"name\": \"Capsule\"}], \"lwaist\": [{\"link_idx\": 1, \"transform\": {\"pos\": [0.0, 0.0, 0.0], \"rot\": [0.7071067690849304, 0.7071067690849304, 0.0, -0.0], \"name\": \"Transform\"}, \"friction\": 1.0, \"elasticity\": 0.0, \"radius\": 0.05999999865889549, \"length\": 0.11999999731779099, \"rgba\": [0.4000000059604645, 0.33000001311302185, 0.25999999046325684, 1.0], \"name\": \"Capsule\"}], \"pelvis\": [{\"link_idx\": 2, \"transform\": {\"pos\": [-0.019999999552965164, 0.0, 0.0], \"rot\": [0.7071067690849304, 0.7071067690849304, 0.0, -0.0], \"name\": \"Transform\"}, \"friction\": 1.0, \"elasticity\": 0.0, \"radius\": 0.09000000357627869, \"length\": 0.14000000059604645, \"rgba\": [0.4000000059604645, 0.33000001311302185, 0.25999999046325684, 1.0], \"name\": \"Capsule\"}], \"right_upper_arm\": [{\"link_idx\": 7, \"transform\": {\"pos\": [0.07999999821186066, -0.07999999821186066, -0.07999999821186066], \"rot\": [0.8880738615989685, -0.32505759596824646, -0.32505759596824646, 0.0], \"name\": \"Transform\"}, \"friction\": 1.0, \"elasticity\": 0.0, \"radius\": 0.03999999910593033, \"length\": 0.277128130197525, \"rgba\": [0.4000000059604645, 0.33000001311302185, 0.25999999046325684, 1.0], \"name\": \"Capsule\"}], \"left_upper_arm\": [{\"link_idx\": 9, \"transform\": {\"pos\": [0.07999999821186066, 0.07999999821186066, -0.07999999821186066], \"rot\": [0.8880738615989685, 0.32505759596824646, -0.32505759596824646, 0.0], \"name\": \"Transform\"}, \"friction\": 1.0, \"elasticity\": 0.0, \"radius\": 0.03999999910593033, \"length\": 0.277128130197525, \"rgba\": [0.4000000059604645, 0.33000001311302185, 0.25999999046325684, 1.0], \"name\": \"Capsule\"}]}, \"actuator\": {\"ctrl_range\": [[-0.4000000059604645, 0.4000000059604645], [-0.4000000059604645, 0.4000000059604645], [-0.4000000059604645, 0.4000000059604645], [-0.4000000059604645, 0.4000000059604645], [-0.4000000059604645, 0.4000000059604645], [-0.4000000059604645, 0.4000000059604645], [-0.4000000059604645, 0.4000000059604645], [-0.4000000059604645, 0.4000000059604645], [-0.4000000059604645, 0.4000000059604645], [-0.4000000059604645, 0.4000000059604645], [-0.4000000059604645, 0.4000000059604645], [-0.4000000059604645, 0.4000000059604645], [-0.4000000059604645, 0.4000000059604645], [-0.4000000059604645, 0.4000000059604645], [-0.4000000059604645, 0.4000000059604645], [-0.4000000059604645, 0.4000000059604645], [-0.4000000059604645, 0.4000000059604645]], \"gear\": [350.0, 350.0, 350.0, 350.0, 350.0, 350.0, 350.0, 350.0, 350.0, 350.0, 350.0, 100.0, 100.0, 100.0, 100.0, 100.0, 100.0], \"name\": \"Actuator\"}, \"init_q\": [0.0, 0.0, 0.15000000596046448, 1.0, 0.0, 0.0, 0.0, 0.0, 0.0, 0.0, 0.0, 0.0, 0.0, 0.0, 0.0, 0.0, 0.0, 0.0, 0.0, 0.0, 0.0, 0.0, 0.0, 0.0], \"solver_params_joint\": [0.019999999552965164, 1.0, 0.8999999761581421, 0.949999988079071, 0.0010000000474974513, 0.5, 2.0], \"solver_params_contact\": [0.019999999552965164, 1.0, 0.8999999761581421, 0.949999988079071, 0.0010000000474974513, 0.5, 2.0], \"vel_damping\": 0.0, \"ang_damping\": -0.05000000074505806, \"baumgarte_erp\": 0.10000000149011612, \"spring_mass_scale\": 0.0, \"spring_inertia_scale\": 1.0, \"joint_scale_ang\": 0.10000000149011612, \"joint_scale_pos\": 0.5, \"collide_scale\": 1.0, \"geom_masks\": [4294967296, 1, 1, 0, 0], \"link_names\": [\"torso\", \"lwaist\", \"pelvis\", \"right_thigh\", \"right_shin\", \"left_thigh\", \"left_shin\", \"right_upper_arm\", \"right_lower_arm\", \"left_upper_arm\", \"left_lower_arm\"], \"link_types\": \"f2131312121\", \"link_parents\": [-1, 0, 1, 2, 3, 2, 5, 0, 7, 0, 9], \"actuator_types\": \"mmmmmmmmmmmmmmmmm\", \"actuator_link_id\": [1, 1, 2, 3, 3, 3, 4, 5, 5, 5, 6, 7, 7, 8, 9, 9, 10], \"actuator_qid\": [8, 7, 9, 10, 11, 12, 13, 14, 15, 16, 17, 18, 19, 20, 21, 22, 23], \"actuator_qdid\": [7, 6, 8, 9, 10, 11, 12, 13, 14, 15, 16, 17, 18, 19, 20, 21, 22], \"matrix_inv_iterations\": 20, \"solver_iterations\": 8, \"solver_maxls\": 15, \"name\": \"System\", \"states\": {\"x\": {\"pos\": [[[-0.006359991617500782, -0.008605253882706165, 0.15316331386566162], [0.2028491050004959, -0.009866549633443356, 0.15558157861232758], [0.36673471331596375, -0.008523959666490555, 0.15961124002933502], [0.36713021993637085, -0.10787071287631989, 0.1582435965538025], [0.76731276512146, -0.09888219088315964, 0.1689320206642151], [0.36633920669555664, 0.09082278609275818, 0.16097888350486755], [0.7667815685272217, 0.08383353054523468, 0.17370449006557465], [-0.00806028675287962, -0.17788095772266388, 0.21169690787792206], [0.16949762403964996, -0.3576493263244629, 0.03250320255756378], [-0.006039500702172518, 0.1599196493625641, 0.21384766697883606], [0.1781940758228302, 0.338066428899765, 0.03984883427619934]]], \"rot\": [[[0.9999737739562988, 0.0031660597305744886, -0.005777019541710615, -0.0030093479435890913], [0.9999181628227234, 0.0031303665600717068, -0.012262544594705105, 0.001844533602707088], [0.9998728036880493, 0.006910340394824743, -0.014255308546125889, 0.0018921212758868933], [0.999901294708252, 0.004568224307149649, -0.013242754153907299, -0.001122131128795445], [0.9999328851699829, 0.004571190569549799, -0.010584846138954163, -0.001109984121285379], [0.9998198747634888, 0.009331236593425274, -0.016080014407634735, 0.003825925290584564], [0.9997400045394897, 0.009347873739898205, -0.02045070193707943, 0.0037850963417440653], [0.9999727606773376, 0.003435781691223383, -0.0024715480394661427, -0.0060494448989629745], [0.9999659657478333, 0.0034474229905754328, -0.0010999072110280395, -0.007411675062030554], [0.9999309778213501, 0.0040095155127346516, -0.009397310204803944, -0.005812440998852253], [0.9998898506164551, 0.004017879720777273, -0.0117269828915596, -0.008160890080034733]]], \"name\": \"Transform\"}, \"contact\": null}};\n",
              "  </script>\n",
              "\n",
              "  <body>\n",
              "\n",
              "    <div id=\"brax-viewer\"></div>\n",
              "\n",
              "    <script type=\"module\">\n",
              "      import {Viewer} from 'viewer';\n",
              "      const domElement = document.getElementById(\"brax-viewer\");\n",
              "      var viewer = new Viewer(domElement, system);\n",
              "    </script>\n",
              "\n",
              "  </body>\n",
              "\n",
              "</html>"
            ]
          },
          "metadata": {},
          "execution_count": 2
        }
      ],
      "source": [
        "#@title Load Env { run: \"auto\" }\n",
        "\n",
        "env_name = 'humanoidstandup'  # @param ['ant', 'halfcheetah', 'hopper', 'humanoid', 'humanoidstandup', 'inverted_pendulum', 'inverted_double_pendulum', 'pusher', 'reacher', 'walker2d']\n",
        "backend = 'positional'  # @param ['generalized', 'positional', 'spring']\n",
        "\n",
        "env = envs.get_environment(env_name=env_name,\n",
        "                           backend=backend)\n",
        "state = jax.jit(env.reset)(rng=jax.random.PRNGKey(seed=0))\n",
        "\n",
        "HTML(html.render(env.sys, [state.pipeline_state]))"
      ]
    },
    {
      "cell_type": "markdown",
      "metadata": {
        "id": "GMailSDb30t-"
      },
      "source": [
        "# Training\n",
        "\n",
        "Brax provides out of the box the following training algorithms:\n",
        "\n",
        "* [Proximal policy optimization](https://github.com/google/brax/blob/main/brax/training/agents/ppo/train.py)\n",
        "* [Soft actor-critic](https://github.com/google/brax/blob/main/brax/training/agents/sac/train.py)\n",
        "* [Evolutionary strategy](https://github.com/google/brax/blob/main/brax/training/agents/es/train.py)\n",
        "* [Analytic policy gradients](https://github.com/google/brax/blob/main/brax/training/agents/apg/train.py)\n",
        "* [Augmented random search](https://github.com/google/brax/blob/main/brax/training/agents/ars/train.py)\n",
        "\n",
        "Trainers take as input an environment function and some hyperparameters, and return an inference function to operate the environment."
      ]
    },
    {
      "cell_type": "markdown",
      "metadata": {
        "id": "y3MA1UYlftuq"
      },
      "source": [
        "# Training\n",
        "\n",
        "Let's train the Ant policy using the `generalized` backend with PPO."
      ]
    },
    {
      "cell_type": "code",
      "source": [
        "from typing import Callable, Optional, Union\n",
        "\n",
        "from brax import envs\n",
        "from brax.v1 import envs as envs_v1\n",
        "from brax.training.agents.ppo import train as ppoTrain, networks as ppoNetworks\n",
        "from brax.training.agents.sac import train as sacTrain, networks as sacNetworks\n",
        "from brax.training import types\n",
        "\n",
        "from flax.linen import swish, relu\n",
        "\n",
        "def getTrainFunc(\n",
        "\tagentType = 'ppo',\n",
        "\thidden_layer_sizes = (256,) * 2,\n",
        "\tpolicy_hidden_layer_sizes = (32,) * 4,\n",
        "\tvalue_hidden_layer_sizes = (256,) * 5,\n",
        "\tactivation = 'swish',\n",
        "\tnum_timesteps = 100_000_000,\n",
        "\tnum_evals = 20,\n",
        "\treward_scaling = 0.1,\n",
        "\tepisode_length = 1000,\n",
        "\tnormalize_observations = True,\n",
        "\taction_repeat = 1,\n",
        "\tunroll_length = 15,\n",
        "\tnum_minibatches = 32,\n",
        "\tnum_updates_per_batch = 8,\n",
        "\tdiscounting = 0.97,\n",
        "\tlearning_rate = 6e-4,\n",
        "\tentropy_cost = 1e-2,\n",
        "\tnum_envs = 2048,\n",
        "\tbatch_size = 1024,\n",
        "\tgrad_updates_per_step = 32,\n",
        "\tmax_devices_per_host = 1,\n",
        "\tmax_replay_size = 1048576,\n",
        "\tmin_replay_size = 8192,\n",
        "\tseed = 1):\n",
        "\n",
        "\tif activation == 'relu':\n",
        "\t\tactivationFunc = relu\n",
        "\telse:\n",
        "\t\tactivationFunc = swish\n",
        "\n",
        "\tif agentType == 'sac':\n",
        "\t\tdef networkFunc(\n",
        "\t\t\tobservation_size: int,\n",
        "\t\t\taction_size: int,\n",
        "\t\t\tpreprocess_observations_fn: types.PreprocessObservationFn = types.identity_observation_preprocessor):\n",
        "\t\t\t\n",
        "\t\t\treturn sacNetworks.make_sac_networks(\n",
        "\t\t\t\tobservation_size = observation_size,\n",
        "\t\t\t\taction_size = action_size,\n",
        "\t\t\t\tpreprocess_observations_fn = preprocess_observations_fn,\n",
        "\t\t\t\thidden_layer_sizes = hidden_layer_sizes,\n",
        "\t\t\t\tactivation = activationFunc)\n",
        "\n",
        "\t\tdef trainFunc(\n",
        "\t\t\tenvironment: Union[envs_v1.Env, envs.Env],\n",
        "\t\t\tnum_timesteps,\n",
        "\t\t\tepisode_length: int,\n",
        "\t\t\taction_repeat: int = 1,\n",
        "\t\t\tnum_envs: int = 1,\n",
        "\t\t\tnum_eval_envs: int = 128,\n",
        "\t\t\tlearning_rate: float = 1e-4,\n",
        "\t\t\tdiscounting: float = 0.9,\n",
        "\t\t\tseed: int = 0,\n",
        "\t\t\tbatch_size: int = 256,\n",
        "\t\t\tnum_evals: int = 1,\n",
        "\t\t\tnormalize_observations: bool = False,\n",
        "\t\t\tmax_devices_per_host: Optional[int] = None,\n",
        "\t\t\treward_scaling: float = 1.,\n",
        "\t\t\ttau: float = 0.005,\n",
        "\t\t\tmin_replay_size: int = 0,\n",
        "\t\t\tmax_replay_size: Optional[int] = None,\n",
        "\t\t\tgrad_updates_per_step: int = 1,\n",
        "\t\t\tdeterministic_eval: bool = False,\n",
        "\t\t\tprogress_fn: Callable[[int, types.Metrics], None] = lambda *args: None,\n",
        "\t\t\tcheckpoint_logdir: Optional[str] = None,\n",
        "\t\t\teval_env: Optional[envs.Env] = None):\n",
        "\n",
        "\t\t\treturn sacTrain.train(\n",
        "\t\t\t\tenvironment = environment,\n",
        "\t\t\t\tnum_timesteps = num_timesteps,\n",
        "\t\t\t\tepisode_length = episode_length,\n",
        "\t\t\t\taction_repeat = action_repeat,\n",
        "\t\t\t\tnum_envs = num_envs,\n",
        "\t\t\t\tnum_eval_envs = num_eval_envs,\n",
        "\t\t\t\tlearning_rate = learning_rate,\n",
        "\t\t\t\tdiscounting = discounting,\n",
        "\t\t\t\tseed = seed,\n",
        "\t\t\t\tbatch_size = batch_size,\n",
        "\t\t\t\tnum_evals = num_evals,\n",
        "\t\t\t\tnormalize_observations = normalize_observations,\n",
        "\t\t\t\tmax_devices_per_host = max_devices_per_host,\n",
        "\t\t\t\treward_scaling = reward_scaling,\n",
        "\t\t\t\ttau = tau,\n",
        "\t\t\t\tmin_replay_size = min_replay_size,\n",
        "\t\t\t\tmax_replay_size = max_replay_size,\n",
        "\t\t\t\tgrad_updates_per_step = grad_updates_per_step,\n",
        "\t\t\t\tdeterministic_eval = deterministic_eval,\n",
        "\t\t\t\tnetwork_factory = networkFunc,\n",
        "\t\t\t\tprogress_fn = progress_fn,\n",
        "\t\t\t\tcheckpoint_logdir = checkpoint_logdir,\n",
        "\t\t\t\teval_env = eval_env)\n",
        "\n",
        "\t\treturn functools.partial(\n",
        "\t\t\ttrainFunc,\n",
        "\t\t\tnum_timesteps = num_timesteps,\n",
        "\t\t\tnum_evals = num_evals,\n",
        "\t\t\treward_scaling = reward_scaling,\n",
        "\t\t\tepisode_length = episode_length,\n",
        "\t\t\tnormalize_observations = normalize_observations,\n",
        "\t\t\taction_repeat = action_repeat,\n",
        "\t\t\tdiscounting = discounting,\n",
        "\t\t\tlearning_rate = learning_rate,\n",
        "\t\t\tnum_envs = num_envs,\n",
        "\t\t\tbatch_size = batch_size,\n",
        "\t\t\tgrad_updates_per_step = grad_updates_per_step,\n",
        "\t\t\tmax_devices_per_host = max_devices_per_host,\n",
        "\t\t\tmax_replay_size = max_replay_size,\n",
        "\t\t\tmin_replay_size = min_replay_size,\n",
        "\t\t\tseed = seed)\n",
        "\n",
        "\telse:\n",
        "\t\tdef networkFunc(\n",
        "\t\t\tobservation_size: int,\n",
        "\t\t\taction_size: int,\n",
        "\t\t\tpreprocess_observations_fn: types.PreprocessObservationFn = types.identity_observation_preprocessor):\n",
        "\n",
        "\t\t\treturn ppoNetworks.make_ppo_networks(\n",
        "\t\t\t\tobservation_size = observation_size,\n",
        "\t\t\t\taction_size = action_size,\n",
        "\t\t\t\tpreprocess_observations_fn = preprocess_observations_fn,\n",
        "\t\t\t\tpolicy_hidden_layer_sizes = policy_hidden_layer_sizes,\n",
        "\t\t\t\tvalue_hidden_layer_sizes = value_hidden_layer_sizes,\n",
        "\t\t\t\tactivation = activationFunc)\n",
        "\n",
        "\t\tdef trainFunc(\n",
        "\t\t\tenvironment: Union[envs_v1.Env, envs.Env],\n",
        "\t\t\tnum_timesteps: int,\n",
        "\t\t\tepisode_length: int,\n",
        "\t\t\taction_repeat: int = 1,\n",
        "\t\t\tnum_envs: int = 1,\n",
        "\t\t\tmax_devices_per_host: Optional[int] = None,\n",
        "\t\t\tnum_eval_envs: int = 128,\n",
        "\t\t\tlearning_rate: float = 1e-4,\n",
        "\t\t\tentropy_cost: float = 1e-4,\n",
        "\t\t\tdiscounting: float = 0.9,\n",
        "\t\t\tseed: int = 0,\n",
        "\t\t\tunroll_length: int = 10,\n",
        "\t\t\tbatch_size: int = 32,\n",
        "\t\t\tnum_minibatches: int = 16,\n",
        "\t\t\tnum_updates_per_batch: int = 2,\n",
        "\t\t\tnum_evals: int = 1,\n",
        "\t\t\tnormalize_observations: bool = False,\n",
        "\t\t\treward_scaling: float = 1.,\n",
        "\t\t\tclipping_epsilon: float = .3,\n",
        "\t\t\tgae_lambda: float = .95,\n",
        "\t\t\tdeterministic_eval: bool = False,\n",
        "\t\t\tprogress_fn: Callable[[int, types.Metrics], None] = lambda *args: None,\n",
        "\t\t\tnormalize_advantage: bool = True,\n",
        "\t\t\teval_env: Optional[envs.Env] = None,\n",
        "\t\t\tpolicy_params_fn: Callable[..., None] = lambda *args: None):\n",
        "\n",
        "\t\t\treturn ppoTrain.train(\n",
        "\t\t\t\tenvironment = environment,\n",
        "\t\t\t\tnum_timesteps = num_timesteps,\n",
        "\t\t\t\tepisode_length = episode_length,\n",
        "\t\t\t\taction_repeat = action_repeat,\n",
        "\t\t\t\tnum_envs = num_envs,\n",
        "\t\t\t\tmax_devices_per_host = max_devices_per_host,\n",
        "\t\t\t\tnum_eval_envs = num_eval_envs,\n",
        "\t\t\t\tlearning_rate = learning_rate,\n",
        "\t\t\t\tentropy_cost = entropy_cost,\n",
        "\t\t\t\tdiscounting = discounting,\n",
        "\t\t\t\tseed = seed,\n",
        "\t\t\t\tunroll_length = unroll_length,\n",
        "\t\t\t\tbatch_size = batch_size,\n",
        "\t\t\t\tnum_minibatches = num_minibatches,\n",
        "\t\t\t\tnum_updates_per_batch = num_updates_per_batch,\n",
        "\t\t\t\tnum_evals = num_evals,\n",
        "\t\t\t\tnormalize_observations = normalize_observations,\n",
        "\t\t\t\treward_scaling = reward_scaling,\n",
        "\t\t\t\tclipping_epsilon = clipping_epsilon,\n",
        "\t\t\t\tgae_lambda = gae_lambda,\n",
        "\t\t\t\tdeterministic_eval = deterministic_eval,\n",
        "\t\t\t\tnetwork_factory = networkFunc,\n",
        "\t\t\t\tprogress_fn = progress_fn,\n",
        "\t\t\t\tnormalize_advantage = normalize_advantage,\n",
        "\t\t\t\teval_env = eval_env,\n",
        "\t\t\t\tpolicy_params_fn = policy_params_fn)\n",
        "\n",
        "\t\treturn functools.partial(\n",
        "\t\t\ttrainFunc,\n",
        "\t\t\tnum_timesteps = num_timesteps,\n",
        "\t\t\tnum_evals = num_evals,\n",
        "\t\t\treward_scaling = reward_scaling,\n",
        "\t\t\tepisode_length = episode_length,\n",
        "\t\t\tnormalize_observations = normalize_observations,\n",
        "\t\t\taction_repeat = action_repeat,\n",
        "\t\t\tunroll_length = unroll_length,\n",
        "\t\t\tnum_minibatches = num_minibatches,\n",
        "\t\t\tnum_updates_per_batch = num_updates_per_batch,\n",
        "\t\t\tdiscounting = discounting,\n",
        "\t\t\tlearning_rate = learning_rate,\n",
        "\t\t\tentropy_cost = entropy_cost,\n",
        "\t\t\tnum_envs = num_envs,\n",
        "\t\t\tbatch_size = batch_size,\n",
        "\t\t\tseed = seed)"
      ],
      "metadata": {
        "id": "l8ZiWYacsYML",
        "outputId": "d2cd7be2-9651-47b9-cda1-f75b993123cc",
        "colab": {
          "base_uri": "https://localhost:8080/"
        }
      },
      "execution_count": 3,
      "outputs": [
        {
          "output_type": "stream",
          "name": "stderr",
          "text": [
            "/usr/local/lib/python3.10/dist-packages/ipykernel/ipkernel.py:283: DeprecationWarning: `should_run_async` will not call `transform_cell` automatically in the future. Please pass the result to `transformed_cell` argument and any exception that happen during thetransform in `preprocessing_exc_tuple` in IPython 7.17 and above.\n",
            "  and should_run_async(code)\n"
          ]
        }
      ]
    },
    {
      "cell_type": "code",
      "execution_count": null,
      "metadata": {
        "colab": {
          "height": 449,
          "base_uri": "https://localhost:8080/"
        },
        "id": "FB6G2_Yt4A2m",
        "outputId": "3ea17a22-ef08-4e2c-d8f8-c8ed4c26c2c3"
      },
      "outputs": [
        {
          "data": {
            "image/png": "[encoded data removed]",
            "text/plain": [
              "<Figure size 640x480 with 1 Axes>"
            ]
          },
          "metadata": {},
          "output_type": "display_data"
        }
      ],
      "source": [
        "#@title Training\n",
        "\n",
        "# We determined some reasonable hyperparameters offline and share them here.\n",
        "# train_fn = {\n",
        "#   'inverted_pendulum': functools.partial(ppo.train, num_timesteps=2_000_000, num_evals=20, reward_scaling=10, episode_length=1000, normalize_observations=True, action_repeat=1, unroll_length=5, num_minibatches=32, num_updates_per_batch=4, discounting=0.97, learning_rate=3e-4, entropy_cost=1e-2, num_envs=2048, batch_size=1024, seed=1),\n",
        "#   'inverted_double_pendulum': functools.partial(ppo.train, num_timesteps=20_000_000, num_evals=20, reward_scaling=10, episode_length=1000, normalize_observations=True, action_repeat=1, unroll_length=5, num_minibatches=32, num_updates_per_batch=4, discounting=0.97, learning_rate=3e-4, entropy_cost=1e-2, num_envs=2048, batch_size=1024, seed=1),\n",
        "#   'ant': functools.partial(ppo.train,  num_timesteps=50_000_000, num_evals=10, reward_scaling=10, episode_length=1000, normalize_observations=True, action_repeat=1, unroll_length=5, num_minibatches=32, num_updates_per_batch=4, discounting=0.97, learning_rate=3e-4, entropy_cost=1e-2, num_envs=4096, batch_size=2048, seed=1),\n",
        "#   'humanoid': functools.partial(ppo.train,  num_timesteps=50_000_000, num_evals=10, reward_scaling=0.1, episode_length=1000, normalize_observations=True, action_repeat=1, unroll_length=10, num_minibatches=32, num_updates_per_batch=8, discounting=0.97, learning_rate=3e-4, entropy_cost=1e-3, num_envs=2048, batch_size=1024, seed=1),\n",
        "#   'reacher': functools.partial(ppo.train, num_timesteps=50_000_000, num_evals=20, reward_scaling=5, episode_length=1000, normalize_observations=True, action_repeat=4, unroll_length=50, num_minibatches=32, num_updates_per_batch=8, discounting=0.95, learning_rate=3e-4, entropy_cost=1e-3, num_envs=2048, batch_size=256, max_devices_per_host=8, seed=1),\n",
        "#   'humanoidstandup': functools.partial(ppo.train, num_timesteps=100_000_000, num_evals=20, reward_scaling=0.1, episode_length=1000, normalize_observations=True, action_repeat=1, unroll_length=15, num_minibatches=32, num_updates_per_batch=8, discounting=0.97, learning_rate=6e-4, entropy_cost=1e-2, num_envs=2048, batch_size=1024, seed=1),\n",
        "#   'hopper': functools.partial(sac.train, num_timesteps=6_553_600, num_evals=20, reward_scaling=30, episode_length=1000, normalize_observations=True, action_repeat=1, discounting=0.997, learning_rate=6e-4, num_envs=128, batch_size=512, grad_updates_per_step=64, max_devices_per_host=1, max_replay_size=1048576, min_replay_size=8192, seed=1),\n",
        "#   'walker2d': functools.partial(sac.train, num_timesteps=7_864_320, num_evals=20, reward_scaling=5, episode_length=1000, normalize_observations=True, action_repeat=1, discounting=0.997, learning_rate=6e-4, num_envs=128, batch_size=128, grad_updates_per_step=32, max_devices_per_host=1, max_replay_size=1048576, min_replay_size=8192, seed=1),\n",
        "#   'halfcheetah': functools.partial(ppo.train, num_timesteps=50_000_000, num_evals=20, reward_scaling=1, episode_length=1000, normalize_observations=True, action_repeat=1, unroll_length=20, num_minibatches=32, num_updates_per_batch=8, discounting=0.95, learning_rate=3e-4, entropy_cost=0.001, num_envs=2048, batch_size=512, seed=3),\n",
        "#   'pusher': functools.partial(ppo.train, num_timesteps=50_000_000, num_evals=20, reward_scaling=5, episode_length=1000, normalize_observations=True, action_repeat=1, unroll_length=30, num_minibatches=16, num_updates_per_batch=8, discounting=0.95, learning_rate=3e-4,entropy_cost=1e-2, num_envs=2048, batch_size=512, seed=3),\n",
        "# }[env_name]\n",
        "\n",
        "train_fn = getTrainFunc(agentType = 'sac', activation = 'relu')\n",
        "\n",
        "max_y = {'ant': 8000, 'halfcheetah': 8000, 'hopper': 2500, 'humanoid': 13000, 'humanoidstandup': 75_000, 'reacher': 5, 'walker2d': 5000, 'pusher': 0}[env_name]\n",
        "min_y = {'reacher': -100, 'pusher': -150}.get(env_name, 0)\n",
        "\n",
        "xdata, ydata = [], []\n",
        "times = [datetime.now()]\n",
        "\n",
        "def progress(num_steps, metrics):\n",
        "  times.append(datetime.now())\n",
        "  xdata.append(num_steps)\n",
        "  ydata.append(metrics['eval/episode_reward'])\n",
        "  clear_output(wait=True)\n",
        "  plt.xlim([0, train_fn.keywords['num_timesteps']])\n",
        "  plt.ylim([min_y, max_y])\n",
        "  plt.xlabel('# environment steps')\n",
        "  plt.ylabel('reward per episode')\n",
        "  plt.plot(xdata, ydata)\n",
        "  plt.show()\n",
        "\n",
        "make_inference_fn, params, _ = train_fn(environment=env, progress_fn=progress)\n",
        "\n",
        "print(f'time to jit: {times[1] - times[0]}')\n",
        "print(f'time to train: {times[-1] - times[1]}')"
      ]
    },
    {
      "cell_type": "markdown",
      "metadata": {
        "id": "bjlh7puy2ZM1"
      },
      "source": [
        "The trainers return an inference function, parameters, and the final set of metrics gathered during evaluation.\n",
        "\n",
        "# Saving and Loading Policies\n",
        "\n",
        "Brax can save and load trained policies:"
      ]
    },
    {
      "cell_type": "code",
      "execution_count": null,
      "metadata": {
        "id": "gOWeDqlP35sI"
      },
      "outputs": [],
      "source": [
        "model.save_params('/tmp/params', params)\n",
        "params = model.load_params('/tmp/params')\n",
        "inference_fn = make_inference_fn(params)"
      ]
    },
    {
      "cell_type": "markdown",
      "metadata": {
        "id": "4YlZvIG320sK"
      },
      "source": [
        "The trainers return an inference function, parameters, and the final set of metrics gathered during evaluation.\n",
        "\n",
        "# Saving and Loading Policies\n",
        "\n",
        "Brax can save and load trained policies:"
      ]
    },
    {
      "cell_type": "code",
      "execution_count": null,
      "metadata": {
        "id": "kF5fS-yo35sI"
      },
      "outputs": [],
      "source": [
        "#@title Visualizing a trajectory of the learned inference function\n",
        "\n",
        "# create an env with auto-reset\n",
        "env = envs.create(env_name=env_name, backend=backend)\n",
        "\n",
        "jit_env_reset = jax.jit(env.reset)\n",
        "jit_env_step = jax.jit(env.step)\n",
        "jit_inference_fn = jax.jit(inference_fn)\n",
        "\n",
        "rollout = []\n",
        "rng = jax.random.PRNGKey(seed=1)\n",
        "state = jit_env_reset(rng=rng)\n",
        "for _ in range(1000):\n",
        "  rollout.append(state.pipeline_state)\n",
        "  act_rng, rng = jax.random.split(rng)\n",
        "  act, _ = jit_inference_fn(state.obs, act_rng)\n",
        "  state = jit_env_step(state, act)\n",
        "\n",
        "HTML(html.render(env.sys.replace(dt=env.dt), rollout))"
      ]
    },
    {
      "cell_type": "markdown",
      "metadata": {
        "id": "CBtrAqns35sI"
      },
      "source": [
        "🙌 See you soon!"
      ]
    }
  ],
  "metadata": {
    "colab": {
      "provenance": [],
      "toc_visible": true
    },
    "kernelspec": {
      "display_name": "Python 3",
      "name": "python3"
    },
    "language_info": {
      "name": "python"
    },
    "accelerator": "GPU",
    "gpuClass": "standard"
  },
  "nbformat": 4,
  "nbformat_minor": 0
}